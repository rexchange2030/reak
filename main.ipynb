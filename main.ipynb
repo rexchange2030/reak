{
  "nbformat": 4,
  "nbformat_minor": 5,
  "metadata": {
    "kernelspec": {
      "display_name": "Python 3 (ipykernel)",
      "language": "python",
      "name": "python3"
    },
    "language_info": {
      "codemirror_mode": {
        "name": "ipython",
        "version": 3
      },
      "file_extension": ".py",
      "mimetype": "text/x-python",
      "name": "python",
      "nbconvert_exporter": "python",
      "pygments_lexer": "ipython3",
      "version": "3.9.7"
    },
    "colab": {
      "name": "main.ipynb",
      "provenance": [],
      "collapsed_sections": [],
      "toc_visible": true,
      "include_colab_link": true
    },
    "accelerator": "GPU",
    "widgets": {
      "application/vnd.jupyter.widget-state+json": {
        "f712d5269d3c4105957e8329fbb31d3b": {
          "model_module": "jupyter-webrtc",
          "model_name": "AudioRecorderModel",
          "model_module_version": "~0.6.0",
          "state": {
            "_view_name": "AudioRecorderView",
            "_dom_classes": [],
            "stream": "IPY_MODEL_6d9c946dd44043309a4ddff0e2d511a9",
            "_model_name": "AudioRecorderModel",
            "format": "webm",
            "_view_module": "jupyter-webrtc",
            "_model_module_version": "~0.6.0",
            "_data_src": "blob:https://kauhnc1dwp-496ff2e9c6d22116-0-colab.googleusercontent.com/7ca7d5d3-8aa5-4f47-b310-ed1a6349eb29",
            "autosave": false,
            "_view_count": null,
            "recording": false,
            "_view_module_version": "~0.6.0",
            "filename": "record",
            "codecs": "",
            "layout": "IPY_MODEL_a6b06674e2274adba31d51f0b61b1e76",
            "audio": "IPY_MODEL_b1cd9d577e4546838c9a808440a8682a",
            "_model_module": "jupyter-webrtc"
          }
        },
        "6d9c946dd44043309a4ddff0e2d511a9": {
          "model_module": "jupyter-webrtc",
          "model_name": "CameraStreamModel",
          "model_module_version": "~0.6.0",
          "state": {
            "_view_name": "MediaStreamView",
            "_dom_classes": [],
            "_model_name": "CameraStreamModel",
            "_view_module": "jupyter-webrtc",
            "_model_module_version": "~0.6.0",
            "_view_count": null,
            "_view_module_version": "~0.6.0",
            "layout": "IPY_MODEL_1e94dfd158954ce4b78ed03c94309d6a",
            "_model_module": "jupyter-webrtc",
            "constraints": {
              "audio": true,
              "video": false
            }
          }
        },
        "a6b06674e2274adba31d51f0b61b1e76": {
          "model_module": "@jupyter-widgets/base",
          "model_name": "LayoutModel",
          "model_module_version": "1.2.0",
          "state": {
            "_view_name": "LayoutView",
            "grid_template_rows": null,
            "right": null,
            "justify_content": null,
            "_view_module": "@jupyter-widgets/base",
            "overflow": null,
            "_model_module_version": "1.2.0",
            "_view_count": null,
            "flex_flow": null,
            "width": null,
            "min_width": null,
            "border": null,
            "align_items": null,
            "bottom": null,
            "_model_module": "@jupyter-widgets/base",
            "top": null,
            "grid_column": null,
            "overflow_y": null,
            "overflow_x": null,
            "grid_auto_flow": null,
            "grid_area": null,
            "grid_template_columns": null,
            "flex": null,
            "_model_name": "LayoutModel",
            "justify_items": null,
            "grid_row": null,
            "max_height": null,
            "align_content": null,
            "visibility": null,
            "align_self": null,
            "height": null,
            "min_height": null,
            "padding": null,
            "grid_auto_rows": null,
            "grid_gap": null,
            "max_width": null,
            "order": null,
            "_view_module_version": "1.2.0",
            "grid_template_areas": null,
            "object_position": null,
            "object_fit": null,
            "grid_auto_columns": null,
            "margin": null,
            "display": null,
            "left": null
          }
        },
        "b1cd9d577e4546838c9a808440a8682a": {
          "model_module": "@jupyter-widgets/controls",
          "model_name": "AudioModel",
          "model_module_version": "1.5.0",
          "state": {
            "_view_name": "AudioView",
            "_dom_classes": [],
            "_model_name": "AudioModel",
            "format": "webm",
            "_view_module": "@jupyter-widgets/controls",
            "_model_module_version": "1.5.0",
            "controls": true,
            "_view_count": null,
            "_view_module_version": "1.5.0",
            "layout": "IPY_MODEL_afb3de4d1693474bb5aad7a6e8478260",
            "_model_module": "@jupyter-widgets/controls",
            "loop": true,
            "autoplay": true
          }
        },
        "1e94dfd158954ce4b78ed03c94309d6a": {
          "model_module": "@jupyter-widgets/base",
          "model_name": "LayoutModel",
          "model_module_version": "1.2.0",
          "state": {
            "_view_name": "LayoutView",
            "grid_template_rows": null,
            "right": null,
            "justify_content": null,
            "_view_module": "@jupyter-widgets/base",
            "overflow": null,
            "_model_module_version": "1.2.0",
            "_view_count": null,
            "flex_flow": null,
            "width": null,
            "min_width": null,
            "border": null,
            "align_items": null,
            "bottom": null,
            "_model_module": "@jupyter-widgets/base",
            "top": null,
            "grid_column": null,
            "overflow_y": null,
            "overflow_x": null,
            "grid_auto_flow": null,
            "grid_area": null,
            "grid_template_columns": null,
            "flex": null,
            "_model_name": "LayoutModel",
            "justify_items": null,
            "grid_row": null,
            "max_height": null,
            "align_content": null,
            "visibility": null,
            "align_self": null,
            "height": null,
            "min_height": null,
            "padding": null,
            "grid_auto_rows": null,
            "grid_gap": null,
            "max_width": null,
            "order": null,
            "_view_module_version": "1.2.0",
            "grid_template_areas": null,
            "object_position": null,
            "object_fit": null,
            "grid_auto_columns": null,
            "margin": null,
            "display": null,
            "left": null
          }
        },
        "afb3de4d1693474bb5aad7a6e8478260": {
          "model_module": "@jupyter-widgets/base",
          "model_name": "LayoutModel",
          "model_module_version": "1.2.0",
          "state": {
            "_view_name": "LayoutView",
            "grid_template_rows": null,
            "right": null,
            "justify_content": null,
            "_view_module": "@jupyter-widgets/base",
            "overflow": null,
            "_model_module_version": "1.2.0",
            "_view_count": null,
            "flex_flow": null,
            "width": null,
            "min_width": null,
            "border": null,
            "align_items": null,
            "bottom": null,
            "_model_module": "@jupyter-widgets/base",
            "top": null,
            "grid_column": null,
            "overflow_y": null,
            "overflow_x": null,
            "grid_auto_flow": null,
            "grid_area": null,
            "grid_template_columns": null,
            "flex": null,
            "_model_name": "LayoutModel",
            "justify_items": null,
            "grid_row": null,
            "max_height": null,
            "align_content": null,
            "visibility": null,
            "align_self": null,
            "height": null,
            "min_height": null,
            "padding": null,
            "grid_auto_rows": null,
            "grid_gap": null,
            "max_width": null,
            "order": null,
            "_view_module_version": "1.2.0",
            "grid_template_areas": null,
            "object_position": null,
            "object_fit": null,
            "grid_auto_columns": null,
            "margin": null,
            "display": null,
            "left": null
          }
        }
      }
    }
  },
  "cells": [
    {
      "cell_type": "markdown",
      "metadata": {
        "id": "view-in-github",
        "colab_type": "text"
      },
      "source": [
        "<a href=\"https://colab.research.google.com/github/rexchange2030/reak/blob/main/main.ipynb\" target=\"_parent\"><img src=\"https://colab.research.google.com/assets/colab-badge.svg\" alt=\"Open In Colab\"/></a>"
      ]
    },
    {
      "cell_type": "markdown",
      "metadata": {
        "id": "RsGkZxdedd0D"
      },
      "source": [
        "<div style=\"text-align: center;\">\n",
        "<img src=\"https://drive.google.com/uc?export=view&id=1jCn2MDq8e3wQ40Q5onn3wY0RDdLyTutM\" style=\"padding-left: 2rem;\"/>\n",
        "</div>\n"
      ],
      "id": "RsGkZxdedd0D"
    },
    {
      "cell_type": "markdown",
      "metadata": {
        "id": "wZ-Yczfrhlqv"
      },
      "source": [
        "# Important to Note :\n",
        "\n",
        "The below source code is simply a demonstration of the application on which this device will work.\n",
        "\n",
        "The actual source cannot be made public but based on this only.\n",
        "\n",
        "The actual source code uses **Google Cloud Services** for language translation and detection and conversion due to **lack of support of some languages in IBM Watson**"
      ],
      "id": "wZ-Yczfrhlqv"
    },
    {
      "cell_type": "markdown",
      "metadata": {
        "id": "IUUYPMWHf8MS"
      },
      "source": [
        "# Useful Links : \n",
        "\n",
        "1. Create Account on IBM Cloud : [Link](https://cloud.ibm.com/)\n",
        "2. Go to IBM Console : [Link](https://cloud.ibm.com/)\n",
        "3. Activate the following to get the API keys and URLs for the services used : \n",
        "  - Language Translator - [Link](https://cloud.ibm.com/catalog/services/language-translator)\n",
        "  - Speech to Text - [Link](https://cloud.ibm.com/catalog/services/speech-to-text)\n",
        "  - Text to Speech - [Link](https://cloud.ibm.com/catalog/services/text-to-speech)\n",
        "1. IBM Watson Languages Supports (used in section [**Translating**](https://colab.research.google.com/drive/16iHUi2EoAWvBw0O0PufT-3RwxlqrfUre?authuser=5#scrollTo=b7Y3VyiHS5mm&line=1&uniqifier=1)  : [Link](https://cloud.ibm.com/docs/language-translator?topic=language-translator-translation-models)\n",
        "\n",
        "2. IBM Watson Language Supports (used in [**Text to Speech Conversion**](https://colab.research.google.com/drive/16iHUi2EoAWvBw0O0PufT-3RwxlqrfUre?authuser=5#scrollTo=eWorqDhPZxk4&line=1&uniqifier=1)) : [Link](https://cloud.ibm.com/docs/text-to-speech?topic=text-to-speech-voices)"
      ],
      "id": "IUUYPMWHf8MS"
    },
    {
      "cell_type": "markdown",
      "metadata": {
        "id": "Aq2fHN0LSCdb"
      },
      "source": [
        "# Installing necessary libraries"
      ],
      "id": "Aq2fHN0LSCdb"
    },
    {
      "cell_type": "code",
      "metadata": {
        "colab": {
          "base_uri": "https://localhost:8080/"
        },
        "id": "89fae2cb",
        "outputId": "117cf72f-b1ee-4d91-8805-7796e432817f"
      },
      "source": [
        "!pip install ibm-watson\n",
        "!pip install ipywebrtc"
      ],
      "id": "89fae2cb",
      "execution_count": null,
      "outputs": [
        {
          "output_type": "stream",
          "name": "stdout",
          "text": [
            "Collecting ibm-watson\n",
            "  Downloading ibm-watson-5.3.0.tar.gz (412 kB)\n",
            "\u001b[?25l\r\u001b[K     |▉                               | 10 kB 24.0 MB/s eta 0:00:01\r\u001b[K     |█▋                              | 20 kB 23.0 MB/s eta 0:00:01\r\u001b[K     |██▍                             | 30 kB 11.3 MB/s eta 0:00:01\r\u001b[K     |███▏                            | 40 kB 9.0 MB/s eta 0:00:01\r\u001b[K     |████                            | 51 kB 5.3 MB/s eta 0:00:01\r\u001b[K     |████▊                           | 61 kB 5.9 MB/s eta 0:00:01\r\u001b[K     |█████▋                          | 71 kB 5.6 MB/s eta 0:00:01\r\u001b[K     |██████▍                         | 81 kB 6.3 MB/s eta 0:00:01\r\u001b[K     |███████▏                        | 92 kB 4.9 MB/s eta 0:00:01\r\u001b[K     |████████                        | 102 kB 5.3 MB/s eta 0:00:01\r\u001b[K     |████████▊                       | 112 kB 5.3 MB/s eta 0:00:01\r\u001b[K     |█████████▌                      | 122 kB 5.3 MB/s eta 0:00:01\r\u001b[K     |██████████▎                     | 133 kB 5.3 MB/s eta 0:00:01\r\u001b[K     |███████████▏                    | 143 kB 5.3 MB/s eta 0:00:01\r\u001b[K     |████████████                    | 153 kB 5.3 MB/s eta 0:00:01\r\u001b[K     |████████████▊                   | 163 kB 5.3 MB/s eta 0:00:01\r\u001b[K     |█████████████▌                  | 174 kB 5.3 MB/s eta 0:00:01\r\u001b[K     |██████████████▎                 | 184 kB 5.3 MB/s eta 0:00:01\r\u001b[K     |███████████████                 | 194 kB 5.3 MB/s eta 0:00:01\r\u001b[K     |████████████████                | 204 kB 5.3 MB/s eta 0:00:01\r\u001b[K     |████████████████▊               | 215 kB 5.3 MB/s eta 0:00:01\r\u001b[K     |█████████████████▌              | 225 kB 5.3 MB/s eta 0:00:01\r\u001b[K     |██████████████████▎             | 235 kB 5.3 MB/s eta 0:00:01\r\u001b[K     |███████████████████             | 245 kB 5.3 MB/s eta 0:00:01\r\u001b[K     |███████████████████▉            | 256 kB 5.3 MB/s eta 0:00:01\r\u001b[K     |████████████████████▋           | 266 kB 5.3 MB/s eta 0:00:01\r\u001b[K     |█████████████████████▌          | 276 kB 5.3 MB/s eta 0:00:01\r\u001b[K     |██████████████████████▎         | 286 kB 5.3 MB/s eta 0:00:01\r\u001b[K     |███████████████████████         | 296 kB 5.3 MB/s eta 0:00:01\r\u001b[K     |███████████████████████▉        | 307 kB 5.3 MB/s eta 0:00:01\r\u001b[K     |████████████████████████▋       | 317 kB 5.3 MB/s eta 0:00:01\r\u001b[K     |█████████████████████████▍      | 327 kB 5.3 MB/s eta 0:00:01\r\u001b[K     |██████████████████████████▏     | 337 kB 5.3 MB/s eta 0:00:01\r\u001b[K     |███████████████████████████     | 348 kB 5.3 MB/s eta 0:00:01\r\u001b[K     |███████████████████████████▉    | 358 kB 5.3 MB/s eta 0:00:01\r\u001b[K     |████████████████████████████▋   | 368 kB 5.3 MB/s eta 0:00:01\r\u001b[K     |█████████████████████████████▍  | 378 kB 5.3 MB/s eta 0:00:01\r\u001b[K     |██████████████████████████████▏ | 389 kB 5.3 MB/s eta 0:00:01\r\u001b[K     |███████████████████████████████ | 399 kB 5.3 MB/s eta 0:00:01\r\u001b[K     |███████████████████████████████▉| 409 kB 5.3 MB/s eta 0:00:01\r\u001b[K     |████████████████████████████████| 412 kB 5.3 MB/s \n",
            "\u001b[?25h  Installing build dependencies ... \u001b[?25l\u001b[?25hdone\n",
            "  Getting requirements to build wheel ... \u001b[?25l\u001b[?25hdone\n",
            "    Preparing wheel metadata ... \u001b[?25l\u001b[?25hdone\n",
            "Requirement already satisfied: python-dateutil>=2.5.3 in /usr/local/lib/python3.7/dist-packages (from ibm-watson) (2.8.2)\n",
            "Collecting ibm-cloud-sdk-core==3.*,>=3.3.6\n",
            "  Downloading ibm-cloud-sdk-core-3.12.0.tar.gz (45 kB)\n",
            "\u001b[K     |████████████████████████████████| 45 kB 2.9 MB/s \n",
            "\u001b[?25hCollecting websocket-client==1.1.0\n",
            "  Downloading websocket_client-1.1.0-py2.py3-none-any.whl (68 kB)\n",
            "\u001b[K     |████████████████████████████████| 68 kB 6.0 MB/s \n",
            "\u001b[?25hRequirement already satisfied: requests<3.0,>=2.0 in /usr/local/lib/python3.7/dist-packages (from ibm-watson) (2.23.0)\n",
            "Collecting PyJWT<3.0.0,>=2.0.1\n",
            "  Downloading PyJWT-2.3.0-py3-none-any.whl (16 kB)\n",
            "Requirement already satisfied: six>=1.5 in /usr/local/lib/python3.7/dist-packages (from python-dateutil>=2.5.3->ibm-watson) (1.15.0)\n",
            "Requirement already satisfied: idna<3,>=2.5 in /usr/local/lib/python3.7/dist-packages (from requests<3.0,>=2.0->ibm-watson) (2.10)\n",
            "Requirement already satisfied: certifi>=2017.4.17 in /usr/local/lib/python3.7/dist-packages (from requests<3.0,>=2.0->ibm-watson) (2021.5.30)\n",
            "Requirement already satisfied: chardet<4,>=3.0.2 in /usr/local/lib/python3.7/dist-packages (from requests<3.0,>=2.0->ibm-watson) (3.0.4)\n",
            "Requirement already satisfied: urllib3!=1.25.0,!=1.25.1,<1.26,>=1.21.1 in /usr/local/lib/python3.7/dist-packages (from requests<3.0,>=2.0->ibm-watson) (1.24.3)\n",
            "Building wheels for collected packages: ibm-watson, ibm-cloud-sdk-core\n",
            "  Building wheel for ibm-watson (PEP 517) ... \u001b[?25l\u001b[?25hdone\n",
            "  Created wheel for ibm-watson: filename=ibm_watson-5.3.0-py3-none-any.whl size=408872 sha256=0bacb2c48b1967ed7d0201b4295281167fbd6d884d88bf7653bc350f5a10ac0f\n",
            "  Stored in directory: /root/.cache/pip/wheels/21/d9/82/4ce5b94730bc4f1f7b4c6384f72964b9b8f79fcc125bb8085c\n",
            "  Building wheel for ibm-cloud-sdk-core (setup.py) ... \u001b[?25l\u001b[?25hdone\n",
            "  Created wheel for ibm-cloud-sdk-core: filename=ibm_cloud_sdk_core-3.12.0-py3-none-any.whl size=76105 sha256=d959885bd21ee6917c28d89ba1a3bbf8d78a4c4535232ad6e0704b207266f8ac\n",
            "  Stored in directory: /root/.cache/pip/wheels/ec/e2/0c/7650cadf1522d49017d9021c519635ac1b2057b328ae49d8df\n",
            "Successfully built ibm-watson ibm-cloud-sdk-core\n",
            "Installing collected packages: PyJWT, websocket-client, ibm-cloud-sdk-core, ibm-watson\n",
            "Successfully installed PyJWT-2.3.0 ibm-cloud-sdk-core-3.12.0 ibm-watson-5.3.0 websocket-client-1.1.0\n",
            "Collecting ipywebrtc\n",
            "  Downloading ipywebrtc-0.6.0-py2.py3-none-any.whl (260 kB)\n",
            "\u001b[K     |████████████████████████████████| 260 kB 5.3 MB/s \n",
            "\u001b[?25hInstalling collected packages: ipywebrtc\n",
            "Successfully installed ipywebrtc-0.6.0\n"
          ]
        }
      ]
    },
    {
      "cell_type": "markdown",
      "metadata": {
        "id": "53ee00ea"
      },
      "source": [
        "# 1. Authetincation and Set up with IBM Watson"
      ],
      "id": "53ee00ea"
    },
    {
      "cell_type": "markdown",
      "metadata": {
        "id": "PAZM7Tf2SLCi"
      },
      "source": [
        "### I. Importing the requried modules"
      ],
      "id": "PAZM7Tf2SLCi"
    },
    {
      "cell_type": "code",
      "metadata": {
        "id": "793c99dd"
      },
      "source": [
        "from ibm_watson import SpeechToTextV1, LanguageTranslatorV3\n",
        "from ibm_cloud_sdk_core.authenticators import IAMAuthenticator\n",
        "from ibm_watson import TextToSpeechV1\n",
        "import IPython.display as ipd"
      ],
      "id": "793c99dd",
      "execution_count": null,
      "outputs": []
    },
    {
      "cell_type": "markdown",
      "metadata": {
        "id": "qvVlVUY5SRm0"
      },
      "source": [
        "### II. Setting up the APIs and Languages URLs"
      ],
      "id": "qvVlVUY5SRm0"
    },
    {
      "cell_type": "code",
      "metadata": {
        "id": "Zs5bXk3ijk5P"
      },
      "source": [
        "LANGUAGE_TRANSLATOR_APIKEY=\"your translator api key\"\n",
        "LANGUAGE_TRANSLATOR_URL=\"your translator url\"\n",
        "SPEECH_TO_TEXT_APIKEY=\"your speech to text api key\"\n",
        "SPEECH_TO_TEXT_URL=\"your speech to text url\"\n",
        "TEXT_TO_SPEECH=\"your text to speech api key\"\n",
        "TEXT_TO_SPEECH_URL=\"your text to speech url\""
      ],
      "id": "Zs5bXk3ijk5P",
      "execution_count": 112,
      "outputs": []
    },
    {
      "cell_type": "code",
      "metadata": {
        "id": "dc57fbcd"
      },
      "source": [
        "ltapikey = LANGUAGE_TRANSLATOR_APIKEY\n",
        "lturl = LANGUAGE_TRANSLATOR_URL\n",
        "sttapikey = SPEECH_TO_TEXT_APIKEY\n",
        "stturl = SPEECH_TO_TEXT_URL\n",
        "ttsapikey=TEXT_TO_SPEECH\n",
        "ttsurl=TEXT_TO_SPEECH_URL"
      ],
      "id": "dc57fbcd",
      "execution_count": null,
      "outputs": []
    },
    {
      "cell_type": "markdown",
      "metadata": {
        "id": "KG0hMIHBSnHv"
      },
      "source": [
        "### III. Authenticating Language Translator with IBM Watson"
      ],
      "id": "KG0hMIHBSnHv"
    },
    {
      "cell_type": "code",
      "metadata": {
        "id": "413b2f56"
      },
      "source": [
        "ltauthenticator = IAMAuthenticator(ltapikey)\n",
        "lt = LanguageTranslatorV3(version='2018-05-01', authenticator=ltauthenticator)\n",
        "lt.set_service_url(lturl)"
      ],
      "id": "413b2f56",
      "execution_count": null,
      "outputs": []
    },
    {
      "cell_type": "markdown",
      "metadata": {
        "id": "u1iv_LlASzPq"
      },
      "source": [
        "### IV. Authenticating Speech To Text with IBM Watson"
      ],
      "id": "u1iv_LlASzPq"
    },
    {
      "cell_type": "code",
      "metadata": {
        "id": "5666fa99"
      },
      "source": [
        "sttauthenticator = IAMAuthenticator(sttapikey)\n",
        "stt = SpeechToTextV1(authenticator=sttauthenticator)\n",
        "stt.set_service_url(stturl)"
      ],
      "id": "5666fa99",
      "execution_count": null,
      "outputs": []
    },
    {
      "cell_type": "markdown",
      "metadata": {
        "id": "-c8QIClVYLCp"
      },
      "source": [
        "### V. Authenticating Text to Speech with IBM Watson"
      ],
      "id": "-c8QIClVYLCp"
    },
    {
      "cell_type": "code",
      "metadata": {
        "id": "wi_5mrG1YWfF"
      },
      "source": [
        "ttsauthenticator = IAMAuthenticator(ttsapikey)\n",
        "tts = TextToSpeechV1(authenticator=ttsauthenticator)\n",
        "tts.set_service_url(ttsurl)"
      ],
      "id": "wi_5mrG1YWfF",
      "execution_count": null,
      "outputs": []
    },
    {
      "cell_type": "markdown",
      "metadata": {
        "id": "b7Y3VyiHS5mm"
      },
      "source": [
        "# 2. Translating : "
      ],
      "id": "b7Y3VyiHS5mm"
    },
    {
      "cell_type": "markdown",
      "metadata": {
        "id": "cU7xgoOlWxpt"
      },
      "source": [
        "#### 1. Hindi - English"
      ],
      "id": "cU7xgoOlWxpt"
    },
    {
      "cell_type": "code",
      "metadata": {
        "colab": {
          "base_uri": "https://localhost:8080/",
          "height": 35
        },
        "id": "m0UTqU3TWVDY",
        "outputId": "65a940ab-1d4a-45d7-cf87-e2aa5d82251a"
      },
      "source": [
        "transcript = 'हैलो वर्ल्ड, मैं कुणाल वर्मा और मैं सॉफ्टवेयर और मशीन प्यार करता हूँ'\n",
        "hindi_english = lt.translate(text=transcript, model_id='hi-en').get_result()\n",
        "hindi_english['translations'][0]['translation']"
      ],
      "id": "m0UTqU3TWVDY",
      "execution_count": null,
      "outputs": [
        {
          "output_type": "execute_result",
          "data": {
            "application/vnd.google.colaboratory.intrinsic+json": {
              "type": "string"
            },
            "text/plain": [
              "\"Hello World, I'm Kunal Verma and I love the software and the machine\""
            ]
          },
          "metadata": {},
          "execution_count": 93
        }
      ]
    },
    {
      "cell_type": "markdown",
      "metadata": {
        "id": "Tm9NvOpeTMx2"
      },
      "source": [
        "#### 2. English - Hindi"
      ],
      "id": "Tm9NvOpeTMx2"
    },
    {
      "cell_type": "code",
      "metadata": {
        "colab": {
          "base_uri": "https://localhost:8080/",
          "height": 35
        },
        "id": "c969fbbc",
        "outputId": "6b2dddcb-e2c2-466e-cef6-e2e52ebf0829"
      },
      "source": [
        " transcript = 'Hello World, I am Kunal Verma and I love software and machines'\n",
        " english_hindi = lt.translate(text=transcript, model_id='en-hi').get_result()\n",
        " english_hindi['translations'][0]['translation']"
      ],
      "id": "c969fbbc",
      "execution_count": null,
      "outputs": [
        {
          "output_type": "execute_result",
          "data": {
            "application/vnd.google.colaboratory.intrinsic+json": {
              "type": "string"
            },
            "text/plain": [
              "'हैलो वर्ल्ड, मैं कुणाल वर्मा और मैं सॉफ्टवेयर और मशीन प्यार करता हूँ'"
            ]
          },
          "metadata": {},
          "execution_count": 92
        }
      ]
    },
    {
      "cell_type": "markdown",
      "metadata": {
        "id": "kk3sjt1XTS8m"
      },
      "source": [
        "#### 3. English - Spanish"
      ],
      "id": "kk3sjt1XTS8m"
    },
    {
      "cell_type": "code",
      "metadata": {
        "colab": {
          "base_uri": "https://localhost:8080/",
          "height": 35
        },
        "id": "06s-hMtPTVyC",
        "outputId": "cdfc73eb-b1c3-4c52-c9c9-b2cbddb1f8a4"
      },
      "source": [
        "transcript = 'Hello World, I am Kunal Verma and I love software and machines.'\n",
        "english_spanish = lt.translate(text=transcript, model_id='en-es').get_result()\n",
        "english_spanish['translations'][0]['translation']"
      ],
      "id": "06s-hMtPTVyC",
      "execution_count": null,
      "outputs": [
        {
          "output_type": "execute_result",
          "data": {
            "application/vnd.google.colaboratory.intrinsic+json": {
              "type": "string"
            },
            "text/plain": [
              "'Hola Mundo, soy Kunal Verma y me encantan el software y las máquinas.'"
            ]
          },
          "metadata": {},
          "execution_count": 95
        }
      ]
    },
    {
      "cell_type": "markdown",
      "metadata": {
        "id": "61Bpx2KbT4IX"
      },
      "source": [
        "#### 4. English - Chinese (Traditional)"
      ],
      "id": "61Bpx2KbT4IX"
    },
    {
      "cell_type": "code",
      "metadata": {
        "colab": {
          "base_uri": "https://localhost:8080/",
          "height": 35
        },
        "id": "gVn9pSKGT7rQ",
        "outputId": "70b9f41c-e932-40b4-db7d-bfb7d0342ed8"
      },
      "source": [
        "transcript = 'Hi I am Kunal Verma and I love software and machines'\n",
        "english_chinese = lt.translate(text=transcript, model_id='en-zh-TW').get_result()\n",
        "english_chinese['translations'][0]['translation']"
      ],
      "id": "gVn9pSKGT7rQ",
      "execution_count": null,
      "outputs": [
        {
          "output_type": "execute_result",
          "data": {
            "application/vnd.google.colaboratory.intrinsic+json": {
              "type": "string"
            },
            "text/plain": [
              "'嗨，我是庫尼爾佛瑪，我愛軟體和機器'"
            ]
          },
          "metadata": {},
          "execution_count": 94
        }
      ]
    },
    {
      "cell_type": "markdown",
      "metadata": {
        "id": "38d5d5b3"
      },
      "source": [
        "# 3. AI Language Identification "
      ],
      "id": "38d5d5b3"
    },
    {
      "cell_type": "markdown",
      "metadata": {
        "id": "h1ajBp_tYeog"
      },
      "source": [
        "#### 1. Hindi Detection Code - 'hi'"
      ],
      "id": "h1ajBp_tYeog"
    },
    {
      "cell_type": "code",
      "metadata": {
        "colab": {
          "base_uri": "https://localhost:8080/",
          "height": 35
        },
        "id": "16cb5755",
        "outputId": "3987b9a0-bed2-45ba-dfc3-41b3a1f07f0c"
      },
      "source": [
        "transcript = 'हैलो वर्ल्ड, मैं कुणाल वर्मा और मैं सॉफ्टवेयर और मशीन प्यार करता हूँ'\n",
        "hindi_detect = lt.identify(transcript).get_result();\n",
        "hindi_detect['languages'][0]['language']"
      ],
      "id": "16cb5755",
      "execution_count": null,
      "outputs": [
        {
          "output_type": "execute_result",
          "data": {
            "application/vnd.google.colaboratory.intrinsic+json": {
              "type": "string"
            },
            "text/plain": [
              "'hi'"
            ]
          },
          "metadata": {},
          "execution_count": 98
        }
      ]
    },
    {
      "cell_type": "markdown",
      "metadata": {
        "id": "3IlZnt5sYqGf"
      },
      "source": [
        "#### 2. English Detection Code - 'en'"
      ],
      "id": "3IlZnt5sYqGf"
    },
    {
      "cell_type": "code",
      "metadata": {
        "colab": {
          "base_uri": "https://localhost:8080/",
          "height": 35
        },
        "id": "yCiOC_NoYtgr",
        "outputId": "b0d4c657-dcec-406b-d4b3-3dcb5ac1c5ef"
      },
      "source": [
        "transcript = 'Hello World, I am Kunal Verma and I love software and machines'\n",
        "english_detect = lt.identify(transcript).get_result();\n",
        "english_detect['languages'][0]['language']"
      ],
      "id": "yCiOC_NoYtgr",
      "execution_count": null,
      "outputs": [
        {
          "output_type": "execute_result",
          "data": {
            "application/vnd.google.colaboratory.intrinsic+json": {
              "type": "string"
            },
            "text/plain": [
              "'en'"
            ]
          },
          "metadata": {},
          "execution_count": 99
        }
      ]
    },
    {
      "cell_type": "markdown",
      "metadata": {
        "id": "B-V40dIlY1J5"
      },
      "source": [
        "#### 3. Spanish Detection Code - 'es'"
      ],
      "id": "B-V40dIlY1J5"
    },
    {
      "cell_type": "code",
      "metadata": {
        "colab": {
          "base_uri": "https://localhost:8080/",
          "height": 35
        },
        "id": "xssTXtO1Y6Q_",
        "outputId": "ec89b8e2-9d2e-4c89-ffd0-72cd2316976b"
      },
      "source": [
        "transcript = 'Hola Mundo, soy Kunal Verma y me encantan el software y las máquinas.'\n",
        "spanish_detect = lt.identify(transcript).get_result();\n",
        "spanish_detect['languages'][0]['language']"
      ],
      "id": "xssTXtO1Y6Q_",
      "execution_count": null,
      "outputs": [
        {
          "output_type": "execute_result",
          "data": {
            "application/vnd.google.colaboratory.intrinsic+json": {
              "type": "string"
            },
            "text/plain": [
              "'es'"
            ]
          },
          "metadata": {},
          "execution_count": 100
        }
      ]
    },
    {
      "cell_type": "markdown",
      "metadata": {
        "id": "TBwvcBTlZHup"
      },
      "source": [
        "#### 4. Chinese Detection Code - 'zh-TW'"
      ],
      "id": "TBwvcBTlZHup"
    },
    {
      "cell_type": "code",
      "metadata": {
        "colab": {
          "base_uri": "https://localhost:8080/",
          "height": 35
        },
        "id": "2VosD0kLZVAn",
        "outputId": "34b5a40c-4a99-4260-a7a8-2e4e77296b93"
      },
      "source": [
        "transcript = '嗨，我是庫尼爾佛瑪，我愛軟體和機器'\n",
        "chinese_detect = lt.identify(transcript).get_result();\n",
        "chinese_detect['languages'][0]['language']"
      ],
      "id": "2VosD0kLZVAn",
      "execution_count": null,
      "outputs": [
        {
          "output_type": "execute_result",
          "data": {
            "application/vnd.google.colaboratory.intrinsic+json": {
              "type": "string"
            },
            "text/plain": [
              "'zh-TW'"
            ]
          },
          "metadata": {},
          "execution_count": 101
        }
      ]
    },
    {
      "cell_type": "markdown",
      "metadata": {
        "id": "eWorqDhPZxk4"
      },
      "source": [
        "# 4. Text to Speech Conversion"
      ],
      "id": "eWorqDhPZxk4"
    },
    {
      "cell_type": "markdown",
      "metadata": {
        "id": "xUHOGoyraCz7"
      },
      "source": [
        "#### 1. Hindi-English"
      ],
      "id": "xUHOGoyraCz7"
    },
    {
      "cell_type": "code",
      "metadata": {
        "id": "6c9c2348"
      },
      "source": [
        "with open('./hindi_english.wav', 'wb') as audio_file:\n",
        "    res = tts.synthesize(hindi_english['translations'][0]['translation'], accept='audio/mp3', voice='en-GB_CharlotteV3Voice').get_result()\n",
        "    audio_file.write(res.content)"
      ],
      "id": "6c9c2348",
      "execution_count": null,
      "outputs": []
    },
    {
      "cell_type": "code",
      "metadata": {
        "colab": {
          "base_uri": "https://localhost:8080/",
          "height": 74
        },
        "id": "00b9430b",
        "outputId": "927ed864-a598-4e6b-d733-68810e8bcd6c"
      },
      "source": [
        "# playing the ouput\n",
        "ipd.Audio('./hindi_english.wav')"
      ],
      "id": "00b9430b",
      "execution_count": null,
      "outputs": [
        {
          "output_type": "execute_result",
          "data": {
            "text/html": [
              "\n",
              "                <audio controls=\"controls\" >\n",
              "                    <source src=\"data:audio/x-wav;base64,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\" type=\"audio/x-wav\" />\n",
              "                    Your browser does not support the audio element.\n",
              "                </audio>\n",
              "              "
            ],
            "text/plain": [
              "<IPython.lib.display.Audio object>"
            ]
          },
          "metadata": {},
          "execution_count": 107
        }
      ]
    },
    {
      "cell_type": "markdown",
      "metadata": {
        "id": "tf-DPR_Hbp6_"
      },
      "source": [
        "#### 2. English - Spanish\n"
      ],
      "id": "tf-DPR_Hbp6_"
    },
    {
      "cell_type": "code",
      "metadata": {
        "id": "2q9evs9Zb79j"
      },
      "source": [
        "with open('./english_spanish.wav', 'wb') as audio_file:\n",
        "    res = tts.synthesize(english_spanish['translations'][0]['translation'], accept='audio/mp3', voice='es-ES_EnriqueV3Voice').get_result()\n",
        "    audio_file.write(res.content)"
      ],
      "id": "2q9evs9Zb79j",
      "execution_count": null,
      "outputs": []
    },
    {
      "cell_type": "code",
      "metadata": {
        "colab": {
          "base_uri": "https://localhost:8080/",
          "height": 74
        },
        "id": "cq_7j2PCb7m-",
        "outputId": "a63a44db-61f4-4d16-bde8-eb67acd5c745"
      },
      "source": [
        "# playing the ouput\n",
        "ipd.Audio('./english_spanish.wav')"
      ],
      "id": "cq_7j2PCb7m-",
      "execution_count": null,
      "outputs": [
        {
          "output_type": "execute_result",
          "data": {
            "text/html": [
              "\n",
              "                <audio controls=\"controls\" >\n",
              "                    <source src=\"data:audio/x-wav;base64,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\" type=\"audio/x-wav\" />\n",
              "                    Your browser does not support the audio element.\n",
              "                </audio>\n",
              "              "
            ],
            "text/plain": [
              "<IPython.lib.display.Audio object>"
            ]
          },
          "metadata": {},
          "execution_count": 109
        }
      ]
    },
    {
      "cell_type": "markdown",
      "metadata": {
        "id": "FugmAoO4cOe7"
      },
      "source": [
        "#### 3. English - Chinese (Traditional)"
      ],
      "id": "FugmAoO4cOe7"
    },
    {
      "cell_type": "code",
      "metadata": {
        "id": "NBak7ZDscN_E"
      },
      "source": [
        "with open('./english_chinese.wav', 'wb') as audio_file:\n",
        "    res = tts.synthesize(english_chinese['translations'][0]['translation'], accept='audio/mp3', voice='zh-CN_LiNaVoice').get_result()\n",
        "    audio_file.write(res.content)"
      ],
      "id": "NBak7ZDscN_E",
      "execution_count": null,
      "outputs": []
    },
    {
      "cell_type": "code",
      "metadata": {
        "colab": {
          "base_uri": "https://localhost:8080/",
          "height": 74
        },
        "id": "CoQmeE9lcYo7",
        "outputId": "fcf915ac-d0ab-4402-ec9f-a4205d31afbb"
      },
      "source": [
        "# playing the ouput\n",
        "ipd.Audio('./english_chinese.wav')"
      ],
      "id": "CoQmeE9lcYo7",
      "execution_count": null,
      "outputs": [
        {
          "output_type": "execute_result",
          "data": {
            "text/html": [
              "\n",
              "                <audio controls=\"controls\" >\n",
              "                    <source src=\"data:audio/x-wav;base64,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\" type=\"audio/x-wav\" />\n",
              "                    Your browser does not support the audio element.\n",
              "                </audio>\n",
              "              "
            ],
            "text/plain": [
              "<IPython.lib.display.Audio object>"
            ]
          },
          "metadata": {},
          "execution_count": 111
        }
      ]
    },
    {
      "cell_type": "markdown",
      "metadata": {
        "id": "qWiTnFbacp3F"
      },
      "source": [
        "# Utility Functions\n",
        "\n",
        "1. Able to convert speech to text\n",
        "2. Able to record voice"
      ],
      "id": "qWiTnFbacp3F"
    },
    {
      "cell_type": "code",
      "metadata": {
        "id": "UEIlqBp_c5sG"
      },
      "source": [
        "# recommended to run the below command on google colab only (needs to download a size of 858.34MB)\n",
        "# !pip install torchaudio"
      ],
      "id": "UEIlqBp_c5sG",
      "execution_count": null,
      "outputs": []
    },
    {
      "cell_type": "code",
      "metadata": {
        "id": "28f1b48c"
      },
      "source": [
        "from google.colab import output\n",
        "output.enable_custom_widget_manager() # to enable third-party jupyter widgets to run on colab\n",
        "from ipywebrtc import VideoStream, AudioStream, AudioRecorder, CameraStream\n",
        "from ipywebrtc import AudioRecorder, CameraStream\n",
        "import torchaudio\n",
        "from IPython.display import Audio"
      ],
      "id": "28f1b48c",
      "execution_count": null,
      "outputs": []
    },
    {
      "cell_type": "markdown",
      "metadata": {
        "id": "NmdzTobHcxuY"
      },
      "source": [
        "### recording voice"
      ],
      "id": "NmdzTobHcxuY"
    },
    {
      "cell_type": "code",
      "metadata": {
        "colab": {
          "base_uri": "https://localhost:8080/",
          "height": 106,
          "referenced_widgets": [
            "f712d5269d3c4105957e8329fbb31d3b",
            "6d9c946dd44043309a4ddff0e2d511a9",
            "a6b06674e2274adba31d51f0b61b1e76",
            "b1cd9d577e4546838c9a808440a8682a",
            "1e94dfd158954ce4b78ed03c94309d6a",
            "afb3de4d1693474bb5aad7a6e8478260"
          ]
        },
        "id": "b860d4ec",
        "outputId": "d7024375-c030-402e-b991-091f4dd7b94d"
      },
      "source": [
        "camera = CameraStream(constraints={'audio': True,'video':False})\n",
        "recorder = AudioRecorder(stream=camera)\n",
        "recorder"
      ],
      "id": "b860d4ec",
      "execution_count": null,
      "outputs": [
        {
          "output_type": "display_data",
          "data": {
            "application/vnd.jupyter.widget-view+json": {
              "model_id": "f712d5269d3c4105957e8329fbb31d3b",
              "version_minor": 0,
              "version_major": 2
            },
            "text/plain": [
              "AudioRecorder(audio=Audio(value=b'', format='webm'), stream=CameraStream(constraints={'audio': True, 'video': …"
            ]
          },
          "metadata": {
            "application/vnd.jupyter.widget-view+json": {
              "colab": {
                "custom_widget_manager": {
                  "url": "https://ssl.gstatic.com/colaboratory-static/widgets/colab-cdn-widget-manager/e680a8b83b2ea152/manager.min.js"
                }
              }
            }
          }
        }
      ]
    },
    {
      "cell_type": "markdown",
      "metadata": {
        "id": "E7DKzInydUnT"
      },
      "source": [
        "### saving voice"
      ],
      "id": "E7DKzInydUnT"
    },
    {
      "cell_type": "code",
      "metadata": {
        "id": "qM6rhf_1J7Ui"
      },
      "source": [
        "recorder.save('test.mp3')"
      ],
      "id": "qM6rhf_1J7Ui",
      "execution_count": null,
      "outputs": []
    }
  ]
}